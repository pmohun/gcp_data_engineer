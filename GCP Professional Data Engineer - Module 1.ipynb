{
 "cells": [
  {
   "cell_type": "markdown",
   "metadata": {},
   "source": [
    "## GCP Professional Data Engineer - Module 1"
   ]
  },
  {
   "cell_type": "markdown",
   "metadata": {},
   "source": [
    "#! What is the Google Cloud Platform?\n",
    "\n",
    "GCP is the natural evolution from personal compute centers to a global, distributed computational network.\n",
    "\n",
    "### Data technologies to reseach\n",
    "2002 - GFS\n",
    "2004 - MapReduce (deprecated)\n",
    "2006 - BigTable\n",
    "2008 - Dremel (dataprocessing)\n",
    "2009 - Colossus\n",
    "2010 - Flume (dataprocessing)\n",
    "2011 - Megastore\n",
    "2012 - Spanner\n",
    "2013 - Millwheel\n",
    "2014 - PubSub / F1\n",
    "2015 - TensorFlow\n",
    "\n",
    "http://research.google.com/pubs/papers.html"
   ]
  },
  {
   "cell_type": "markdown",
   "metadata": {},
   "source": [
    "#! GCP Big Data Products\n",
    "\n",
    "### A functional view of the platform:\n",
    "\n",
    "Foundation - Compute engine, Cloud storage\n",
    "Databases - Datastore, Cloud SQL, Cloud Bigtable\n",
    "Analytics & ML - BigQuery, CloudDatalab, Translate API\n",
    "Data-handling Frameworks - Cloud PubSub, Cloud Dataflow, Cloud Dataproc"
   ]
  },
  {
   "cell_type": "markdown",
   "metadata": {},
   "source": [
    "#!! Module 1 Review \n",
    "\n",
    "Q. What is success for you?\n",
    "A. ~Confidential."
   ]
  },
  {
   "cell_type": "markdown",
   "metadata": {},
   "source": [
    "#! Welcome to the Foundations of GCP Compute and Storage\n",
    "\n",
    "CPUs on Demand\n",
    "https://cloud.google.com/custom-machine-types\n",
    "https://cloud.google.com/compute/pricing"
   ]
  },
  {
   "cell_type": "markdown",
   "metadata": {},
   "source": [
    "## Lab 1: Create a Compute Engine Instance"
   ]
  },
  {
   "cell_type": "markdown",
   "metadata": {},
   "source": [
    "Objectives:\n",
    "- Create a Compute Engine instance with the necessary Access and Security\n",
    "- SSH into the instance\n",
    "- Install the software package Git (for source code version control)\n",
    "\n",
    "Launch GCP via console.cloud.google.com\n",
    "\n",
    "Task 1: Create Compute Engine instance with the necessary API access\n",
    "\n",
    "- In the GCP Console, on the Navigation menu (8ab244f9cffa6198.png), click Compute Engine.\n",
    "- Click Create and wait for a form to load. You will need to change some options on the form that comes up.\n",
    "- For Name, leave the default value, for Region, select us-central1, and for Zone, select us-central1-a.\n",
    "- For Identify and API access, in Access scopes, select Allow full access to all Cloud APIs:\n",
    "\n",
    "Task 2: SSH into the Instance\n",
    "\n",
    "- When the instance you just created is available, click SSH\n",
    "- To view information about the Compute Engine instance you just launched, type the following into your SSH terminal:"
   ]
  },
  {
   "cell_type": "code",
   "execution_count": null,
   "metadata": {
    "collapsed": true
   },
   "outputs": [],
   "source": [
    "cat /proc/cpuinfo"
   ]
  },
  {
   "cell_type": "markdown",
   "metadata": {},
   "source": [
    "Task 3: Install Software:"
   ]
  },
  {
   "cell_type": "code",
   "execution_count": null,
   "metadata": {
    "collapsed": true
   },
   "outputs": [],
   "source": [
    "# Install git\n",
    "sudo apt-get update\n",
    "sudo apt-get -y -qq install git\n",
    "# Verify installation\n",
    "git --version\n",
    "# exit\n",
    "exit"
   ]
  },
  {
   "cell_type": "markdown",
   "metadata": {},
   "source": [
    "## End Lab 1"
   ]
  }
 ],
 "metadata": {
  "kernelspec": {
   "display_name": "Python 3",
   "language": "python",
   "name": "python3"
  },
  "language_info": {
   "codemirror_mode": {
    "name": "ipython",
    "version": 3
   },
   "file_extension": ".py",
   "mimetype": "text/x-python",
   "name": "python",
   "nbconvert_exporter": "python",
   "pygments_lexer": "ipython3",
   "version": "3.6.3"
  }
 },
 "nbformat": 4,
 "nbformat_minor": 2
}
