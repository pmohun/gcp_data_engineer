{
 "cells": [
  {
   "cell_type": "markdown",
   "metadata": {},
   "source": [
    "# GCP Professional Data Engineer\n",
    "## Serverless Machine Learning with Tensorflow on Google Cloud Platform\n",
    "### Modules:\n",
    "- Getting Started with Machine Learning\n",
    "- Building ML Models with Tensorflow\n",
    "- Scaling ML models with Cloud ML Engine\n",
    "- Feature Engineering\n",
    "\n",
    "### Learning Objectives & Definitions:\n",
    "- Weights: parameters we optimize\n",
    "- Batch size: amount of data to compute on when calculating error rate\n",
    "- Epoch: one pass through the entire dataset\n",
    "- Gradient descent: process of reducing error\n",
    "- Training: process of optimizing weights, including gradient descent \n",
    "- MSE: the loss measure for regression algorithms\n",
    "- Cross-entropy: loss measure for classification problems\n",
    "- Accuracy: measure of success for classification problems\n",
    "- Precision: accuracy when classifier says \"yes\"\n",
    "- Recall: accuracy when truth is \"yes\"\n",
    "\n",
    "## Module 1 Review\n",
    "\n",
    "1.) Machine learning is a way to derive insights from data by adjusting weights:\n",
    "- on a model function so outputs are close to labels.\n",
    "\n",
    "2.) Which of these is a machine learning problem where the outcome to be predicted is a continuous number?\n",
    "- Regression\n",
    "\n",
    "3.) What is the role of a neuron in a neural network?\n",
    "- Combine it's inputs to map part of a decision surface\n",
    "\n",
    "4.) Which of the following definitions are true?\n",
    "- Epoch refers to one complete pass through a training dataset\n",
    "- Batch is a small set of examples on which a gradient is computed"
   ]
  }
 ],
 "metadata": {
  "kernelspec": {
   "display_name": "Python 3",
   "language": "python",
   "name": "python3"
  },
  "language_info": {
   "codemirror_mode": {
    "name": "ipython",
    "version": 3
   },
   "file_extension": ".py",
   "mimetype": "text/x-python",
   "name": "python",
   "nbconvert_exporter": "python",
   "pygments_lexer": "ipython3",
   "version": "3.6.4"
  }
 },
 "nbformat": 4,
 "nbformat_minor": 2
}
