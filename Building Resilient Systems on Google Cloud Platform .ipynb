{
 "cells": [
  {
   "cell_type": "markdown",
   "metadata": {},
   "source": [
    "### Challenges associated with streaming data\n",
    "\n",
    "#### Ingesting variable volumes\n",
    "- massive amounts of streaming events, handle spiky/bursting data, high availability and durability\n",
    "- Cloud Pub/Sub (Ingest)\n",
    "\n",
    "#### Late data, unordered data\n",
    "- how to deal with latency, late arriving records, or speculative results\n",
    "- Data Dataflow (Processing & Imperative Analysis)\n",
    "\n",
    "#### Real-time insights\n",
    "- continuous query processing, visualization, analytics, etc.\n",
    "- Google BigQuery (Durable storage and interactive analysis)\n",
    "\n",
    "## Module 1 Review\n",
    "\n",
    "1.) Dataflow offers the following that makes it easy to create resilient streaming pipelines when working with unbounded data\n",
    "- Ability to flexibly reason about time\n",
    "- Control messages to ensure correctness\n",
    "\n",
    "2.) Match the GCP product with its role when designing streaming systems\n",
    "- Pub / Sub: Global messaging queue\n",
    "- Dataflow: Controls to handle late-arriving and out-of-order data\n",
    "- Bigtable: latency in the order of milliseconds when querying against overwhelming volume\n",
    "- BiqQuery: Query data as it arrives from streaming pipelines\n",
    "\n",
    "## Lab: Publish Streaming Data into Pub/Sub\n",
    "#### Objectives:\n",
    "- Create a Pub/Sub topic and subscription\n",
    "- Simulate your traffic sensor data into Pub/Sub"
   ]
  }
 ],
 "metadata": {
  "kernelspec": {
   "display_name": "Python 3",
   "language": "python",
   "name": "python3"
  },
  "language_info": {
   "codemirror_mode": {
    "name": "ipython",
    "version": 3
   },
   "file_extension": ".py",
   "mimetype": "text/x-python",
   "name": "python",
   "nbconvert_exporter": "python",
   "pygments_lexer": "ipython3",
   "version": "3.6.4"
  }
 },
 "nbformat": 4,
 "nbformat_minor": 2
}
