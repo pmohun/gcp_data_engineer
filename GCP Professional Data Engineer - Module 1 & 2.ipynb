{
 "cells": [
  {
   "cell_type": "markdown",
   "metadata": {},
   "source": [
    "## GCP Professional Data Engineer - Module 1"
   ]
  },
  {
   "cell_type": "markdown",
   "metadata": {},
   "source": [
    "#! What is the Google Cloud Platform?\n",
    "\n",
    "GCP is the natural evolution from personal compute centers to a global, distributed computational network.\n",
    "\n",
    "### Data technologies to reseach\n",
    "2002 - GFS\n",
    "2004 - MapReduce (deprecated)\n",
    "2006 - BigTable\n",
    "2008 - Dremel (dataprocessing)\n",
    "2009 - Colossus\n",
    "2010 - Flume (dataprocessing)\n",
    "2011 - Megastore\n",
    "2012 - Spanner\n",
    "2013 - Millwheel\n",
    "2014 - PubSub / F1\n",
    "2015 - TensorFlow\n",
    "\n",
    "http://research.google.com/pubs/papers.html"
   ]
  },
  {
   "cell_type": "markdown",
   "metadata": {},
   "source": [
    "#! GCP Big Data Products\n",
    "\n",
    "### A functional view of the platform:\n",
    "\n",
    "Foundation - Compute engine, Cloud storage\n",
    "Databases - Datastore, Cloud SQL, Cloud Bigtable\n",
    "Analytics & ML - BigQuery, CloudDatalab, Translate API\n",
    "Data-handling Frameworks - Cloud PubSub, Cloud Dataflow, Cloud Dataproc"
   ]
  },
  {
   "cell_type": "markdown",
   "metadata": {},
   "source": [
    "#!! Module 1 Review \n",
    "\n",
    "Q. What is success for you?\n",
    "A. ~Confidential."
   ]
  },
  {
   "cell_type": "markdown",
   "metadata": {},
   "source": [
    "#! Welcome to the Foundations of GCP Compute and Storage\n",
    "\n",
    "CPUs on Demand\n",
    "https://cloud.google.com/custom-machine-types\n",
    "https://cloud.google.com/compute/pricing"
   ]
  },
  {
   "cell_type": "markdown",
   "metadata": {},
   "source": [
    "## Lab: Create a Compute Engine Instance"
   ]
  },
  {
   "cell_type": "markdown",
   "metadata": {},
   "source": [
    "Objectives:\n",
    "- Create a Compute Engine instance with the necessary Access and Security\n",
    "- SSH into the instance\n",
    "- Install the software package Git (for source code version control)\n",
    "\n",
    "Launch GCP via console.cloud.google.com\n",
    "\n",
    "Task 1: Create Compute Engine instance with the necessary API access\n",
    "\n",
    "- In the GCP Console, on the Navigation menu (8ab244f9cffa6198.png), click Compute Engine.\n",
    "- Click Create and wait for a form to load. You will need to change some options on the form that comes up.\n",
    "- For Name, leave the default value, for Region, select us-central1, and for Zone, select us-central1-a.\n",
    "- For Identify and API access, in Access scopes, select Allow full access to all Cloud APIs:\n",
    "\n",
    "Task 2: SSH into the Instance\n",
    "\n",
    "- When the instance you just created is available, click SSH\n",
    "- To view information about the Compute Engine instance you just launched, type the following into your SSH terminal:"
   ]
  },
  {
   "cell_type": "code",
   "execution_count": null,
   "metadata": {
    "collapsed": true
   },
   "outputs": [],
   "source": [
    "cat /proc/cpuinfo"
   ]
  },
  {
   "cell_type": "markdown",
   "metadata": {},
   "source": [
    "Task 3: Install Software:"
   ]
  },
  {
   "cell_type": "code",
   "execution_count": null,
   "metadata": {
    "collapsed": true
   },
   "outputs": [],
   "source": [
    "# Install git\n",
    "sudo apt-get update\n",
    "sudo apt-get -y -qq install git\n",
    "# Verify installation\n",
    "git --version\n",
    "# exit\n",
    "exit"
   ]
  },
  {
   "cell_type": "markdown",
   "metadata": {},
   "source": [
    "## End Lab 1"
   ]
  },
  {
   "cell_type": "markdown",
   "metadata": {},
   "source": [
    "#! A Global Filesystem\n",
    "\n",
    "https://cloud.google.com/storage/docs/overview"
   ]
  },
  {
   "cell_type": "markdown",
   "metadata": {},
   "source": [
    "## Lab: Interact With Cloud Storage"
   ]
  },
  {
   "cell_type": "markdown",
   "metadata": {},
   "source": [
    "Objectives: \n",
    "- Create a Compute Engine instance with the necessary Access and Security\n",
    "- SSH into the instance\n",
    "- Install the software package Git (for source code version control)\n",
    "- Ingest data into a Compute Engine instance\n",
    "- Transform data on the Compute Engine instance\n",
    "- Store the transformed data on Cloud Storage\n",
    "- Publish Cloud Storage data to the web\n",
    "\n",
    "###### Sample code for transformation\n",
    "https://github.com/GoogleCloudPlatform/datalab-samples/blob/master/basemap/earthquakes.ipynb\n",
    "\n",
    "\n",
    "Task 1: Create Compute Engine instance with the necessary API access\n",
    "\n",
    "Ibid.\n",
    "\n",
    "Task 2: SSH into the instance\n",
    "\n",
    "Ibid.\n",
    "\n",
    "Task 3: Install software and Ingest USGS data"
   ]
  },
  {
   "cell_type": "code",
   "execution_count": null,
   "metadata": {
    "collapsed": true
   },
   "outputs": [],
   "source": [
    "# Install git\n",
    "sudo apt-get update\n",
    "sudo apt-get -y -qq install git\n",
    "# Verify installation\n",
    "git --version\n",
    "# Copy data from Github and navigate to folder\n",
    "git clone https://github.com/GoogleCloudPlatform/training-data-analyst\n",
    "cd training-data-analyst/CPB100/lab2b\n",
    "# Examine \n",
    "less ingest.sh # less allows you to view the file in the terminal\n",
    "bash ingest.sh # bash runs the file\n",
    "head earthquakes.csv # head show the first few lines\n",
    "# Install python packages\n",
    "bash install_missing.sh\n",
    "# Run transform code from link in lab description\n",
    "python transform.py\n",
    "# List directory comments\n",
    "ls -l"
   ]
  },
  {
   "cell_type": "markdown",
   "metadata": {},
   "source": [
    "Task 5: Create bucket\n",
    "\n",
    "- In the GCP Console, on the Navigation menu, click Storage.\n",
    "- Click Create Bucket.\n",
    "- For Name, enter your Project ID, then click Create. To find your Project ID, click the project in the top menu of the GCP Console and copy the value under ID for your selected project.\n",
    "\n",
    "Task 6: Store Data\n",
    "\n",
    "- In your SSH terminal, type the following, replacing <YOUR-BUCKET> with the name of the bucket you created in the previous task:"
   ]
  },
  {
   "cell_type": "code",
   "execution_count": null,
   "metadata": {
    "collapsed": true
   },
   "outputs": [],
   "source": [
    "gsutil cp earthquakes.* gs://<YOUR-BUCKET>/earthquakes/ # move data to bucket"
   ]
  },
  {
   "cell_type": "markdown",
   "metadata": {},
   "source": [
    "- In the GCP Console, click the bucket name and notice there are three new files present in the earthquakes folder (click Refresh if necessary).\n",
    "\n",
    "Task 7: Publish Cloud Storage files to web\n",
    "\n",
    "- In the GCP Console, check public link for all the three files in the earthquake folder.\n",
    "- For earthquakes.htm, click Public link.\n",
    "\n",
    "##### Note: this feature was non-obvious, possibly due to a UI change"
   ]
  },
  {
   "cell_type": "markdown",
   "metadata": {},
   "source": [
    "## End Lab 2"
   ]
  },
  {
   "cell_type": "markdown",
   "metadata": {},
   "source": [
    "#! Module 2 Review\n",
    "\n",
    "1. Compute nodes on GCP are:\n",
    "- Allocated on demand, and you pay for the time they are up\n",
    "- Cheaper if you allow them to be shutdown at anytime\n",
    "\n",
    "2. Google Cloud Storage is a good option for storing data that:\n",
    "- May be required to be read at some later time\n",
    "- May be imported into a cluster for analysis"
   ]
  }
 ],
 "metadata": {
  "kernelspec": {
   "display_name": "Python 3",
   "language": "python",
   "name": "python3"
  },
  "language_info": {
   "codemirror_mode": {
    "name": "ipython",
    "version": 3
   },
   "file_extension": ".py",
   "mimetype": "text/x-python",
   "name": "python",
   "nbconvert_exporter": "python",
   "pygments_lexer": "ipython3",
   "version": "3.6.3"
  }
 },
 "nbformat": 4,
 "nbformat_minor": 2
}
