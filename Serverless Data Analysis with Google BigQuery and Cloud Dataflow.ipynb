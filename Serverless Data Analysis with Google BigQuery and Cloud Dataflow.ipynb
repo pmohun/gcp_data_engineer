{
 "cells": [
  {
   "cell_type": "markdown",
   "metadata": {},
   "source": [
    "# GCP Professional Data Engineer\n",
    "### Serverless Data Analysis with Google BigQuery and Cloud Dataflow\n",
    "#### Modules:\n",
    "- Serverless Data Analysis with BigQuery\n",
    "- Autoscaling Data Processing Pipelines with Dataflow\n",
    "\n",
    "#### Learning Objectives:\n",
    "\n",
    "- Build up a complex BigQuery using clauses, inner selects, built-in functions and joins\n",
    "- Load and export data to/from BigQuery\n",
    "- Identify need for nested, repeated fields and user-defined functions"
   ]
  },
  {
   "cell_type": "markdown",
   "metadata": {},
   "source": [
    "## Module 1: Serverless Data Analysis with Big Query\n",
    "### Building a BigQuery Query\n",
    "### Loading & Exporting Data\n",
    "### Advanced SQL Queries\n",
    "### Module 1 Review"
   ]
  }
 ],
 "metadata": {
  "kernelspec": {
   "display_name": "Python 3",
   "language": "python",
   "name": "python3"
  },
  "language_info": {
   "codemirror_mode": {
    "name": "ipython",
    "version": 3
   },
   "file_extension": ".py",
   "mimetype": "text/x-python",
   "name": "python",
   "nbconvert_exporter": "python",
   "pygments_lexer": "ipython3",
   "version": "3.6.4"
  }
 },
 "nbformat": 4,
 "nbformat_minor": 2
}
