{
 "cells": [
  {
   "cell_type": "markdown",
   "metadata": {},
   "source": [
    "# GCP Professional Data Engineer\n",
    "### Serverless Data Analysis with Google BigQuery and Cloud Dataflow\n",
    "#### Modules:\n",
    "- Serverless Data Analysis with BigQuery\n",
    "- Autoscaling Data Processing Pipelines with Dataflow\n",
    "\n",
    "#### Learning Objectives:\n",
    "\n",
    "- Build up a complex BigQuery using clauses, inner selects, built-in functions and joins\n",
    "- Load and export data to/from BigQuery\n",
    "- Identify need for nested, repeated fields and user-defined functions"
   ]
  },
  {
   "cell_type": "markdown",
   "metadata": {},
   "source": [
    "## Module 1: Serverless Data Analysis with Big Query\n",
    "#### Topics:\n",
    "- Queries\n",
    "- Functions\n",
    "- Load & export data\n",
    "- Nested, repeated fields\n",
    "- Window functions\n",
    "- User defined functions\n",
    "\n",
    "### BigQuery Overview\n",
    "#### BigQuery Benefits:\n",
    "- Interactive analysis of petabyte scale databases\n",
    "- Familiar SQL 2011 query language\n",
    "- Nested and repeat fields, user defined functions in Javascript\n",
    "- Data storage is inexpensive\n",
    "\n",
    "#### BigQuery Sample Architecture\n",
    "##### Project (billing, top-level container)\n",
    "- Limit access to datasets and jobs\n",
    "- Manage billing\n",
    "\n",
    "##### Dataset (organization, access control)\n",
    "- Access Control Lists for Reader/Writer/Owner\n",
    "- Applied to all tables/views in dataset\n",
    "\n",
    "##### Table (data w/ schema)\n",
    "- Columnar storage\n",
    "- Views are in virtual tables defined by SQL query\n",
    "- Tables can be external (Cloud Storage, etc.)\n",
    "- Each column is storage in a separated, encrypted file\n",
    "\n",
    "##### Jobs (query, import, export, copy) \n",
    "- Repeated or long running action\n",
    "- Can be cancelled\n",
    "\n",
    "### Lab: Building a BigQuery Query\n",
    "\n",
    "\n",
    "### Lab: Loading & Exporting Data\n",
    "### Lab: Advanced SQL Queries\n",
    "### Module 1 Review"
   ]
  },
  {
   "cell_type": "markdown",
   "metadata": {},
   "source": [
    "## Module 2: Autoscaling Data Processing Pipelines with Dataflow\n",
    "#### Topics:\n",
    "- Pipeline concepts\n",
    "- MapReduce\n",
    "- Side inputs\n",
    "- Streaming"
   ]
  }
 ],
 "metadata": {
  "kernelspec": {
   "display_name": "Python 3",
   "language": "python",
   "name": "python3"
  },
  "language_info": {
   "codemirror_mode": {
    "name": "ipython",
    "version": 3
   },
   "file_extension": ".py",
   "mimetype": "text/x-python",
   "name": "python",
   "nbconvert_exporter": "python",
   "pygments_lexer": "ipython3",
   "version": "3.6.4"
  }
 },
 "nbformat": 4,
 "nbformat_minor": 2
}
